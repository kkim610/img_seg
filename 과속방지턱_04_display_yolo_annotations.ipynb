{
 "cells": [
  {
   "cell_type": "code",
   "execution_count": null,
   "id": "4e481661-d9bc-44cb-9e90-3ecb22f1a522",
   "metadata": {},
   "outputs": [],
   "source": [
    "# %load \"display_yolo_annotations_V3.0.py\"\n",
    "# https://youtu.be/NYeJvxe5nYw\n",
    "\"\"\"\n",
    "This code defines a function to display an image with its corresponding annotations. \n",
    "It reads an image and its associated annotation file in the YOLO v8 text format, \n",
    "then plots the image along with colored polygons representing the annotated regions. \n",
    "The polygons are drawn according to the coordinates provided in the annotation file, \n",
    "and colors are assigned based on the category ID.\n",
    "\n",
    "\"\"\"\n",
    "\n",
    "import matplotlib.pyplot as plt\n",
    "import matplotlib.patches as patches\n",
    "import cv2\n",
    "\n",
    "\n",
    "obj_name=\"speed_hump\"\n",
    "\n",
    "def display_image_with_annotations(image_path, annotation_path, colors=None):\n",
    "    # Load image using OpenCV and convert it from BGR to RGB color space\n",
    "    image = cv2.imread(image_path)\n",
    "    image = cv2.cvtColor(image, cv2.COLOR_BGR2RGB)\n",
    "    img_h, img_w, _ = image.shape\n",
    "    \n",
    "    # Create a figure and axis to display the image\n",
    "    fig, ax = plt.subplots(1)\n",
    "    ax.imshow(image)\n",
    "    ax.axis('off')  # Turn off the axes\n",
    "\n",
    "    # Define a default color map if none is provided\n",
    "    if colors is None:\n",
    "        colors = plt.cm.get_cmap('tab10')\n",
    "\n",
    "    # Open the annotation file and process each line\n",
    "    with open(annotation_path, 'r') as file:\n",
    "        for line in file:\n",
    "            parts = line.strip().split()\n",
    "            category_id = int(parts[0])\n",
    "            # Choose color based on category ID, looping through color map if more than 10 categories\n",
    "            color = colors(category_id % 10)\n",
    "            # Extract normalized polygon coordinates and denormalize them\n",
    "            polygon = [float(coord) for coord in parts[1:]]\n",
    "            polygon = [coord * img_w if i % 2 == 0 else coord * img_h for i, coord in enumerate(polygon)]\n",
    "            # Reshape into (num_points, 2) array\n",
    "            polygon = [(polygon[i], polygon[i+1]) for i in range(0, len(polygon), 2)]\n",
    "            # Create a Polygon patch using the denormalized coordinates\n",
    "            patch = patches.Polygon(polygon, closed=True, edgecolor=color, fill=False)\n",
    "            # Add the patch to the plot to display the annotated region\n",
    "            ax.add_patch(patch)\n",
    "\n",
    "    plt.show()  # Display the image with annotations\n",
    "\n",
    "# Example usage with specified image and annotation paths\n",
    "\n",
    "image_path = \"datasets/train/\"+obj_name+\"/images/image0004.png\"\n",
    "annotation_path = \"datasets/train/\"+obj_name+\"/labels/image0004.txt\"\n",
    "print(image_path)\n",
    "print(annotation_path)\n",
    "display_image_with_annotations(image_path, annotation_path)\n"
   ]
  },
  {
   "cell_type": "code",
   "execution_count": null,
   "id": "bfdf2b7f-f830-4290-b335-e3edad673e14",
   "metadata": {},
   "outputs": [],
   "source": [
    "image_path = \"datasets/val/\"+obj_name+\"/images/image0001.png\"\n",
    "annotation_path = \"datasets/val/\"+obj_name+\"/labels/image0001.txt\"\n",
    "print(image_path)\n",
    "print(annotation_path)\n",
    "display_image_with_annotations(image_path, annotation_path)"
   ]
  },
  {
   "cell_type": "code",
   "execution_count": null,
   "id": "abedd588-0b25-4e8f-99f0-e8858a7f870b",
   "metadata": {},
   "outputs": [],
   "source": []
  }
 ],
 "metadata": {
  "kernelspec": {
   "display_name": "Python [conda env:base] *",
   "language": "python",
   "name": "conda-base-py"
  },
  "language_info": {
   "codemirror_mode": {
    "name": "ipython",
    "version": 3
   },
   "file_extension": ".py",
   "mimetype": "text/x-python",
   "name": "python",
   "nbconvert_exporter": "python",
   "pygments_lexer": "ipython3",
   "version": "3.11.7"
  }
 },
 "nbformat": 4,
 "nbformat_minor": 5
}
